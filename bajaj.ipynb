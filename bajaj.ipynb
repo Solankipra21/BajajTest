{
 "cells": [
  {
   "cell_type": "code",
   "execution_count": 3,
   "id": "71e02da7",
   "metadata": {},
   "outputs": [
    {
     "name": "stdout",
     "output_type": "stream",
     "text": [
      "Defaulting to user installation because normal site-packages is not writeable\n",
      "Collecting requests\n",
      "  Using cached requests-2.32.3-py3-none-any.whl.metadata (4.6 kB)\n",
      "Collecting charset-normalizer<4,>=2 (from requests)\n",
      "  Using cached charset_normalizer-3.4.2-cp313-cp313-win_amd64.whl.metadata (36 kB)\n",
      "Requirement already satisfied: idna<4,>=2.5 in c:\\users\\solan\\appdata\\roaming\\python\\python313\\site-packages (from requests) (3.10)\n",
      "Collecting urllib3<3,>=1.21.1 (from requests)\n",
      "  Using cached urllib3-2.4.0-py3-none-any.whl.metadata (6.5 kB)\n",
      "Collecting certifi>=2017.4.17 (from requests)\n",
      "  Using cached certifi-2025.4.26-py3-none-any.whl.metadata (2.5 kB)\n",
      "Using cached requests-2.32.3-py3-none-any.whl (64 kB)\n",
      "Using cached charset_normalizer-3.4.2-cp313-cp313-win_amd64.whl (105 kB)\n",
      "Using cached urllib3-2.4.0-py3-none-any.whl (128 kB)\n",
      "Using cached certifi-2025.4.26-py3-none-any.whl (159 kB)\n",
      "Installing collected packages: urllib3, charset-normalizer, certifi, requests\n",
      "\n",
      "   ---------------------------------------- 0/4 [urllib3]\n",
      "   -------------------- ------------------- 2/4 [certifi]\n",
      "   ---------------------------------------- 4/4 [requests]\n",
      "\n",
      "Successfully installed certifi-2025.4.26 charset-normalizer-3.4.2 requests-2.32.3 urllib3-2.4.0\n",
      "Note: you may need to restart the kernel to use updated packages.\n"
     ]
    }
   ],
   "source": [
    "\n",
    "pip install requests"
   ]
  },
  {
   "cell_type": "code",
   "execution_count": 10,
   "id": "58188422",
   "metadata": {},
   "outputs": [],
   "source": [
    "import requests\n",
    "\n",
    "\n",
    "def send_post_request():\n",
    "    url = \"https://bfhldevapigw.healthrx.co.in/hiring/generateWebhook/PYTHON\"\n",
    "    payload = {\n",
    "        \"name\": \"Prasun Solanki\",\n",
    "        \"regNo\": \"0827AL221102\",\n",
    "        \"email\": \"prasunsolanki220874@acropolis.in\"\n",
    "    }\n",
    "    response = requests.post(url, json=payload)\n",
    "    if response.status_code == 200:\n",
    "        data = response.json()\n",
    "        return data['webhook'], data['accessToken']\n",
    "    else:\n",
    "        raise Exception(f\"Failed to generate webhook: {response.status_code} - {response.text}\")\n",
    "\n",
    "webhook, accessToken = send_post_request()\n"
   ]
  },
  {
   "cell_type": "code",
   "execution_count": null,
   "id": "1e928d26",
   "metadata": {},
   "outputs": [
    {
     "name": "stdout",
     "output_type": "stream",
     "text": [
      "Status Code: 200\n",
      "Response Text: {\"success\":true,\"message\":\"Webhook processed successfully\"}\n"
     ]
    }
   ],
   "source": [
    "\n",
    "\n",
    "access_token = accessToken\n",
    "\n",
    "\n",
    "url = 'https://bfhldevapigw.healthrx.co.in/hiring/testWebhook/PYTHON'\n",
    "\n",
    "\n",
    "headers = {\n",
    "    \"Authorization\": access_token,\n",
    "    \"Content-Type\": \"application/json\"\n",
    "}\n",
    "\n",
    "\n",
    "body = {\n",
    "    \"finalQuery\": \"SELECT e1.EMP_ID, e1.FIRST_NAME, e1.LAST_NAME, d.DEPARTMENT_NAME, COUNT(e2.EMP_ID) AS YOUNGER_EMPLOYEES_COUNT FROM EMPLOYEE e1 JOIN DEPARTMENT d ON e1.DEPARTMENT = d.DEPARTMENT_ID LEFT JOIN EMPLOYEE e2 ON e1.DEPARTMENT = e2.DEPARTMENT AND e2.DOB > e1.DOB GROUP BY e1.EMP_ID, e1.FIRST_NAME, e1.LAST_NAME, d.DEPARTMENT_NAME ORDER BY e1.EMP_ID DESC;\"\n",
    "}\n",
    "\n",
    "\n",
    "response = requests.post(url, headers=headers, json=body)\n",
    "\n"
   ]
  },
  {
   "cell_type": "code",
   "execution_count": null,
   "id": "2dbeb967",
   "metadata": {},
   "outputs": [],
   "source": []
  }
 ],
 "metadata": {
  "kernelspec": {
   "display_name": "Python 3",
   "language": "python",
   "name": "python3"
  },
  "language_info": {
   "codemirror_mode": {
    "name": "ipython",
    "version": 3
   },
   "file_extension": ".py",
   "mimetype": "text/x-python",
   "name": "python",
   "nbconvert_exporter": "python",
   "pygments_lexer": "ipython3",
   "version": "3.13.3"
  }
 },
 "nbformat": 4,
 "nbformat_minor": 5
}
